{
  "nbformat": 4,
  "nbformat_minor": 0,
  "metadata": {
    "colab": {
      "provenance": []
    },
    "kernelspec": {
      "name": "python3",
      "display_name": "Python 3"
    },
    "language_info": {
      "name": "python"
    }
  },
  "cells": [
    {
      "cell_type": "code",
      "execution_count": 3,
      "metadata": {
        "id": "c3vL76UrqJDt",
        "colab": {
          "base_uri": "https://localhost:8080/"
        },
        "outputId": "d42bc071-ef05-40f2-a3a5-17c55fc7c8c1"
      },
      "outputs": [
        {
          "output_type": "stream",
          "name": "stdout",
          "text": [
            "{1001: {'Name': '5-Star', 'Price': 10, 'Qn': 200}, 1002: {'Name': 'Bar-One', 'Price': 20, 'Qn': 100}, 1003: {'Name': 'Candy', 'Price': 2, 'Qn': 1000}, 1004: {'Name': 'Chocolate Cake', 'Price': 550, 'Qn': 8}, 1005: {'Name': 'Blueberry Cake', 'Price': 650, 'Qn': 5}}\n"
          ]
        }
      ],
      "source": [
        "\n",
        "\n",
        "record = {1001: {\"Name\" : \"5-Star\",          \"Price\" : 10,    \"Qn\" : 200},\n",
        "          1002: {\"Name\" : \"Bar-One\",         \"Price\" : 20,    \"Qn\" : 100},\n",
        "          1003: {\"Name\" : \"Candy\",           \"Price\" : 2,     \"Qn\" : 1000},\n",
        "          1004: {\"Name\" : \"Chocolate Cake\",  \"Price\" : 550 ,  \"Qn\" : 8},\n",
        "          1005: {\"Name\" : \"Blueberry Cake\",  \"Price\" : 650,   \"Qn\" : 5}}\n",
        "\n",
        "print(record)"
      ]
    },
    {
      "cell_type": "code",
      "source": [
        "import json\n",
        "import time\n",
        "\n",
        "fd = open(\"Records.json\", \"r\")\n",
        "js = fd.read()\n",
        "fd.close()\n",
        "record = json.loads(js)\n",
        "print(\"----------------------MENU----------------------\")\n",
        "\n",
        "for key in record.keys():\n",
        "  print(key,\":\", record[key][\"Name\"], \":\", record[key][\"Price\"], \":\", record[key][\"Qn\"])\n",
        "\n",
        "print(\"------------------------------------------------\")\n",
        "ui_name = str(input(\"Enter Name      : \"))\n",
        "ui_email = str(input(\"Enter email id : \"))\n",
        "ui_ph = str(input(\"Enter Phone no.   : \"))\n",
        "ui_pr = str(input(\"Enter Product ID  : \"))\n",
        "ui_qn = int(input(\"Enter Quantity    : \"))\n",
        "if(record[ui_pr]['Qn'] >= ui_qn):\n",
        "\n",
        "  record[ui_pr][\"Qn\"] = record[ui_pr][\"Qn\"] - ui_qn\n",
        "\n",
        "  print(\"----------------------Bill----------------------\")\n",
        "  print(\"Product Name : \", record[ui_pr][\"Name\"])\n",
        "  print(\"Price        : \", record[ui_pr][\"Price\"], 'Rs')\n",
        "  print(\"Quantity     : \", ui_qn)\n",
        "  print(\"------------------------------------------------\")\n",
        "  print(\"Total Amount : \", record[ui_pr][\"Price\"] * ui_qn,'Rs')\n",
        "  print(\"------------------------------------------------\")\n",
        "\n",
        "  sale = '1' + ',' + ui_name + ',' + ui_email + ',' + ui_ph + ',' + ui_pr + ','  +  record[ui_pr][\"Name\"] + ','+ str(record[ui_pr][\"Qn\"]) + ',' + str(record[ui_pr]['Price']) + ',' + str(record[ui_pr][\"Price\"] * ui_qn) + ',' + time.ctime()\n",
        "  fd = open(\"Sales.csv\", \"a\")\n",
        "  fd.write(sale)\n",
        "  fd.close()\n",
        "else:\n",
        "  if(record[ui_pr]['Qn'] > 0):\n",
        "\n",
        "    print(\"Sorry, We're not having enough Quantity in our Inventory.\")\n",
        "    print(f\"We're having {record[ui_pr]['Qn']} quantity left with us.\")\n",
        "    print(\"------------------------------------------------\")\n",
        "    ch = str(input(\"Press y to purchase : \"))\n",
        "    if(ch == 'y'):\n",
        "\n",
        "      print(\"----------------------Bill----------------------\")\n",
        "      print(\"Product Name : \", record[ui_pr][\"Name\"])\n",
        "      print(\"Price        : \", record[ui_pr][\"Price\"], 'Rs')\n",
        "      print(\"Quantity     : \", record[ui_pr]['Qn'])\n",
        "      print(\"------------------------------------------------\")\n",
        "      print(\"Total Amount : \", record[ui_pr][\"Price\"] * record[ui_pr]['Qn'],'Rs')\n",
        "      print(\"------------------------------------------------\")\n",
        "\n",
        "      record[ui_pr][\"Qn\"] = 0\n",
        "      sale = '1' + ',' + ui_name + ',' + ui_email + ',' + ui_ph + ',' + ui_pr + ','  +  record[ui_pr][\"Name\"] + ','+ str(record[ui_pr][\"Qn\"]) + ',' + str(record[ui_pr]['Price']) + ',' + str(record[ui_pr][\"Price\"] * record[ui_pr]['Qn']) + ',' + time.ctime()\n",
        "      fd = open(\"Sales.csv\", \"a\")\n",
        "      fd.write(sale)\n",
        "      fd.close()\n",
        "  else:\n",
        "    print(\"------------------------------------------------\")\n",
        "    print(\"Sorry, We're out of stock.\")\n",
        "    print(\"------------------------------------------------\")\n",
        "    sale = '1' + ',' + ui_name + ',' + ui_email + ',' + ui_ph + ',' + ui_pr + ','  +  record[ui_pr][\"Name\"] + ','+ str(record[ui_pr][\"Qn\"]) + ',' + str(record[ui_pr]['Price']) + ',' + str(record[ui_pr][\"Price\"] * 0) + ',' + time.ctime()\n",
        "    fd = open(\"Sales.csv\", \"a\")\n",
        "    fd.write(sale)\n",
        "    fd.close()\n",
        "\n",
        "js = json.dumps(record)\n",
        "fd = open(\"Records.json\", \"w\")\n",
        "fd.write(js)\n",
        "fd.close()\n",
        "print('')\n",
        "print(\"------------------------------------------------\")\n",
        "print(f\"Thanks for visiting {ui_name}.\")\n",
        "print(\"------------------------------------------------\")\n"
      ],
      "metadata": {
        "colab": {
          "base_uri": "https://localhost:8080/"
        },
        "id": "D96uMB4ts-hw",
        "outputId": "5658c90b-382b-437f-8f72-cc7b02ff7df3"
      },
      "execution_count": 39,
      "outputs": [
        {
          "output_type": "stream",
          "name": "stdout",
          "text": [
            "----------------------MENU----------------------\n",
            "1001 : 5-Star : 10 : -2\n",
            "1002 : Bar-One : 20 : 0\n",
            "1003 : Candy : 2 : 992\n",
            "1004 : Chocolate Cake : 550 : 8\n",
            "1005 : Blueberry Cake : 650 : 5\n",
            "------------------------------------------------\n",
            "Enter Name      : kalem\n",
            "Enter email id : lae2@gmail.com\n",
            "Enter Phone no.   : 541389484\n",
            "Enter Product ID  : 1001\n",
            "Enter Quantity    : 1\n",
            "------------------------------------------------\n",
            "Sorry, We're out of stock.\n",
            "------------------------------------------------\n",
            "\n",
            "------------------------------------------------\n",
            "Thanks for visiting kalem.\n",
            "------------------------------------------------\n"
          ]
        }
      ]
    },
    {
      "cell_type": "markdown",
      "source": [
        "# New Section"
      ],
      "metadata": {
        "id": "LfSByeOO5SHm"
      }
    },
    {
      "cell_type": "code",
      "source": [
        "record\n"
      ],
      "metadata": {
        "colab": {
          "base_uri": "https://localhost:8080/"
        },
        "id": "Ng3P_XpaAZzX",
        "outputId": "57836946-38dd-4d4b-b4b9-58c173530504"
      },
      "execution_count": 32,
      "outputs": [
        {
          "output_type": "execute_result",
          "data": {
            "text/plain": [
              "{'1001': {'Name': '5-Star', 'Price': 10, 'Qn': -2},\n",
              " '1002': {'Name': 'Bar-One', 'Price': 20, 'Qn': 0},\n",
              " '1003': {'Name': 'Candy', 'Price': 2, 'Qn': 1000},\n",
              " '1004': {'Name': 'Chocolate Cake', 'Price': 550, 'Qn': 8},\n",
              " '1005': {'Name': 'Blueberry Cake', 'Price': 650, 'Qn': 5}}"
            ]
          },
          "metadata": {},
          "execution_count": 32
        }
      ]
    },
    {
      "cell_type": "code",
      "source": [],
      "metadata": {
        "id": "jMmJanCZMXL6"
      },
      "execution_count": null,
      "outputs": []
    }
  ]
}